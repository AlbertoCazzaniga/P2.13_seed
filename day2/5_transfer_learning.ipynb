{
 "cells": [
  {
   "cell_type": "markdown",
   "metadata": {},
   "source": [
    "# Transfer learning\n",
    "\n",
    "We are familiar with the small convolutional\n",
    "network we trained on MNIST.\n",
    "\n",
    "Let's look again at these images\n",
    "\n",
    "![](./figs/mnist.png)\n",
    "\n",
    "\n",
    "We now repurpose it to do another task:\n",
    "recognizing the following shapes\n",
    "\n",
    "![](./figs/kmnist.png)"
   ]
  },
  {
   "cell_type": "markdown",
   "metadata": {},
   "source": [
    "These are Japanese Kanji!\n",
    "\n",
    "(related paper here https://arxiv.org/abs/1812.01718)\n",
    "\n",
    "The characteristics of this dataset is that\n",
    "\n",
    "- it is more complex than MNIST \n",
    "  (more complex shapes, more variability)\n",
    "  \n",
    "- it has 10 categories like MNIST\n",
    "\n",
    "So we can hope that some part of the network we trained\n",
    "on MNIST will be helpful also for this problem.\n",
    "\n",
    "\n",
    "\n",
    "\n",
    "\n",
    "\n",
    "\n",
    "We also address the following question:\n",
    "- how different are the two datasets?"
   ]
  },
  {
   "cell_type": "code",
   "execution_count": 1,
   "metadata": {},
   "outputs": [],
   "source": [
    "%reload_ext autoreload\n",
    "%autoreload 2\n",
    "%matplotlib inline"
   ]
  },
  {
   "cell_type": "code",
   "execution_count": 2,
   "metadata": {},
   "outputs": [],
   "source": [
    "from __future__ import print_function\n",
    "import argparse\n",
    "import torch\n",
    "import torch.nn as nn\n",
    "import torch.nn.functional as F\n",
    "import torch.optim as optim\n",
    "from torchvision import datasets, transforms\n",
    "from torchsummary import summary\n",
    "\n",
    "import numpy as np\n",
    "from matplotlib import pyplot as plt"
   ]
  },
  {
   "cell_type": "code",
   "execution_count": 3,
   "metadata": {},
   "outputs": [],
   "source": [
    "class Net(nn.Module):\n",
    "    def __init__(self):\n",
    "        super(Net, self).__init__()\n",
    "        self.conv1 = nn.Conv2d(1, 20, 5, 1)\n",
    "        self.conv2 = nn.Conv2d(20, 50, 5, 1)\n",
    "        self.fc1 = nn.Linear(4*4*50, 500)\n",
    "        self.fc2 = nn.Linear(500, 10)\n",
    "\n",
    "    def forward(self, x):\n",
    "        x = F.relu(self.conv1(x))\n",
    "        x = F.max_pool2d(x, 2, 2)\n",
    "        x = F.relu(self.conv2(x))\n",
    "        x = F.max_pool2d(x, 2, 2)\n",
    "        x = x.view(-1, 4*4*50)\n",
    "        x = F.relu(self.fc1(x))\n",
    "        x = self.fc2(x)\n",
    "        return F.log_softmax(x, dim=1)"
   ]
  },
  {
   "cell_type": "code",
   "execution_count": 4,
   "metadata": {},
   "outputs": [],
   "source": [
    "def train(model, device, train_loader, optimizer, epoch):\n",
    "    model.train()\n",
    "    for batch_idx, (data, target) in enumerate(train_loader):\n",
    "        data, target = data.to(device), target.to(device)\n",
    "        optimizer.zero_grad()\n",
    "        output = model(data)\n",
    "        loss = F.nll_loss(output, target)\n",
    "        loss.backward()\n",
    "        optimizer.step()\n",
    "        if batch_idx % log_interval == 0:\n",
    "            print('Train Epoch: {} [{}/{} ({:.0f}%)]\\tLoss: {:.6f}'.format(\n",
    "                epoch, batch_idx * len(data), len(train_loader.dataset),\n",
    "                100. * batch_idx / len(train_loader), loss.item()))\n",
    "\n",
    "def test(model, device, test_loader):\n",
    "    model.eval()\n",
    "    test_loss = 0\n",
    "    correct = 0\n",
    "    with torch.no_grad():\n",
    "        for data, target in test_loader:\n",
    "            data, target = data.to(device), target.to(device)\n",
    "            output = model(data)\n",
    "            test_loss += F.nll_loss(output, target, reduction='sum').item() # sum up batch loss\n",
    "            pred = output.argmax(dim=1, keepdim=True) # get the index of the max log-probability\n",
    "            correct += pred.eq(target.view_as(pred)).sum().item()\n",
    "\n",
    "    test_loss /= len(test_loader.dataset)\n",
    "\n",
    "    print('\\nTest set: Average loss: {:.4f}, Accuracy: {}/{} ({:.0f}%)\\n'.format(\n",
    "        test_loss, correct, len(test_loader.dataset),\n",
    "        100. * correct / len(test_loader.dataset)))"
   ]
  },
  {
   "cell_type": "code",
   "execution_count": 5,
   "metadata": {},
   "outputs": [],
   "source": [
    "input_size=(1,28,28,)\n",
    "batch_size=64\n",
    "test_batch_size=1000\n",
    "seed=1101"
   ]
  },
  {
   "cell_type": "code",
   "execution_count": 6,
   "metadata": {},
   "outputs": [],
   "source": [
    "use_cuda = torch.cuda.is_available()\n",
    "torch.manual_seed(seed)\n",
    "device = torch.device(\"cuda\" if use_cuda else \"cpu\")\n",
    "kwargs = {'num_workers': 1, 'pin_memory': True} if use_cuda else {}"
   ]
  },
  {
   "cell_type": "code",
   "execution_count": 9,
   "metadata": {},
   "outputs": [],
   "source": [
    "train_loader = torch.utils.data.DataLoader(\n",
    "        datasets.KMNIST('../data', train=True, download=True,\n",
    "                       transform=transforms.Compose([\n",
    "                           transforms.ToTensor(),\n",
    "                           transforms.Normalize((0.1307,), (0.3081,))\n",
    "                       ])),\n",
    "        batch_size=batch_size, shuffle=True, **kwargs)\n",
    "test_loader = torch.utils.data.DataLoader(\n",
    "        datasets.KMNIST('../data', train=False, transform=transforms.Compose([\n",
    "                           transforms.ToTensor(),\n",
    "                           transforms.Normalize((0.1307,), (0.3081,))\n",
    "                       ])),\n",
    "        batch_size=test_batch_size, shuffle=True, **kwargs)"
   ]
  },
  {
   "cell_type": "code",
   "execution_count": 10,
   "metadata": {},
   "outputs": [],
   "source": [
    "model = Net().to(device)"
   ]
  },
  {
   "cell_type": "code",
   "execution_count": 11,
   "metadata": {},
   "outputs": [
    {
     "name": "stdout",
     "output_type": "stream",
     "text": [
      "----------------------------------------------------------------\n",
      "        Layer (type)               Output Shape         Param #\n",
      "================================================================\n",
      "            Conv2d-1           [-1, 20, 24, 24]             520\n",
      "            Conv2d-2             [-1, 50, 8, 8]          25,050\n",
      "            Linear-3                  [-1, 500]         400,500\n",
      "            Linear-4                   [-1, 10]           5,010\n",
      "================================================================\n",
      "Total params: 431,080\n",
      "Trainable params: 431,080\n",
      "Non-trainable params: 0\n",
      "----------------------------------------------------------------\n",
      "Input size (MB): 0.00\n",
      "Forward/backward pass size (MB): 0.12\n",
      "Params size (MB): 1.64\n",
      "Estimated Total Size (MB): 1.76\n",
      "----------------------------------------------------------------\n"
     ]
    }
   ],
   "source": [
    "summary(model,input_size)"
   ]
  },
  {
   "cell_type": "code",
   "execution_count": 12,
   "metadata": {},
   "outputs": [
    {
     "data": {
      "text/plain": [
       "Net(\n",
       "  (conv1): Conv2d(1, 20, kernel_size=(5, 5), stride=(1, 1))\n",
       "  (conv2): Conv2d(20, 50, kernel_size=(5, 5), stride=(1, 1))\n",
       "  (fc1): Linear(in_features=800, out_features=500, bias=True)\n",
       "  (fc2): Linear(in_features=500, out_features=10, bias=True)\n",
       ")"
      ]
     },
     "execution_count": 12,
     "metadata": {},
     "output_type": "execute_result"
    }
   ],
   "source": [
    "model.load_state_dict(torch.load('mnist_cnn.pt'))\n",
    "model.eval()"
   ]
  },
  {
   "cell_type": "code",
   "execution_count": 13,
   "metadata": {},
   "outputs": [],
   "source": [
    "inputs,labels = next(iter(test_loader))"
   ]
  },
  {
   "cell_type": "code",
   "execution_count": 14,
   "metadata": {},
   "outputs": [
    {
     "data": {
      "text/plain": [
       "torch.Size([1000, 1, 28, 28])"
      ]
     },
     "execution_count": 14,
     "metadata": {},
     "output_type": "execute_result"
    }
   ],
   "source": [
    "inputs.shape"
   ]
  },
  {
   "cell_type": "code",
   "execution_count": 15,
   "metadata": {},
   "outputs": [
    {
     "data": {
      "image/png": "[encoded data removed]",
      "text/plain": [
       "<Figure size 1080x720 with 30 Axes>"
      ]
     },
     "metadata": {},
     "output_type": "display_data"
    }
   ],
   "source": [
    "fig=plt.figure(figsize=(15,10))\n",
    "for i in range(30):\n",
    "    plt.subplot(5,6,i+1)\n",
    "    plt.imshow(np.squeeze(inputs[i]),cmap='bone')\n",
    "    plt.xticks([])\n",
    "    plt.yticks([])"
   ]
  },
  {
   "cell_type": "code",
   "execution_count": 16,
   "metadata": {},
   "outputs": [
    {
     "name": "stdout",
     "output_type": "stream",
     "text": [
      "acc = 0.111\n"
     ]
    }
   ],
   "source": [
    "output = model(inputs)\n",
    "pred = output.argmax(dim=1, keepdim=True) \n",
    "correct = pred.eq(labels.view_as(pred)).sum().item()\n",
    "print('acc = {}'.format(correct/inputs.shape[0]) )"
   ]
  },
  {
   "cell_type": "code",
   "execution_count": 15,
   "metadata": {},
   "outputs": [],
   "source": [
    "# ... from our Net class\n",
    "#self.fc1 = nn.Linear(4*4*50, 500)\n",
    "#self.fc2 = nn.Linear(500, 10)"
   ]
  },
  {
   "cell_type": "code",
   "execution_count": 17,
   "metadata": {},
   "outputs": [
    {
     "name": "stdout",
     "output_type": "stream",
     "text": [
      "torch.Size([20, 1, 5, 5])\n",
      "torch.Size([20])\n",
      "torch.Size([50, 20, 5, 5])\n",
      "torch.Size([50])\n",
      "torch.Size([500, 800])\n",
      "torch.Size([500])\n",
      "torch.Size([10, 500])\n",
      "torch.Size([10])\n"
     ]
    }
   ],
   "source": [
    "for p in model.parameters():\n",
    "    print(p.shape)"
   ]
  },
  {
   "cell_type": "code",
   "execution_count": 18,
   "metadata": {},
   "outputs": [],
   "source": [
    "for p in model.parameters():\n",
    "    p.requires_grad = False"
   ]
  },
  {
   "cell_type": "code",
   "execution_count": 19,
   "metadata": {},
   "outputs": [
    {
     "data": {
      "text/plain": [
       "Parameter containing:\n",
       "tensor([[ 0.0361,  0.0205,  0.0401,  ..., -0.0451,  0.0030, -0.0106],\n",
       "        [ 0.0502,  0.0349, -0.0195,  ...,  0.0468, -0.0002,  0.0350],\n",
       "        [-0.0270,  0.0156,  0.0186,  ...,  0.0710, -0.0811, -0.0227],\n",
       "        ...,\n",
       "        [ 0.0375,  0.0532,  0.0075,  ...,  0.0292, -0.0197,  0.0389],\n",
       "        [-0.0465, -0.0326, -0.0160,  ...,  0.0161,  0.0264, -0.0259],\n",
       "        [-0.0290,  0.0244,  0.0123,  ..., -0.0422, -0.0234, -0.0208]])"
      ]
     },
     "execution_count": 19,
     "metadata": {},
     "output_type": "execute_result"
    }
   ],
   "source": [
    "list(model.parameters())[-2]"
   ]
  },
  {
   "cell_type": "code",
   "execution_count": 20,
   "metadata": {},
   "outputs": [],
   "source": [
    "model.fc2 = nn.Linear(500,10)"
   ]
  },
  {
   "cell_type": "code",
   "execution_count": 21,
   "metadata": {},
   "outputs": [
    {
     "name": "stdout",
     "output_type": "stream",
     "text": [
      "False\n",
      "False\n",
      "False\n",
      "False\n",
      "False\n",
      "False\n",
      "True\n",
      "True\n"
     ]
    }
   ],
   "source": [
    "for p in model.parameters():\n",
    "    print(p.requires_grad)"
   ]
  },
  {
   "cell_type": "code",
   "execution_count": 22,
   "metadata": {},
   "outputs": [
    {
     "data": {
      "text/plain": [
       "Parameter containing:\n",
       "tensor([[ 0.0366,  0.0352, -0.0173,  ..., -0.0274, -0.0154,  0.0139],\n",
       "        [-0.0175, -0.0045, -0.0267,  ...,  0.0172,  0.0135, -0.0415],\n",
       "        [-0.0114, -0.0396, -0.0021,  ..., -0.0027,  0.0084,  0.0194],\n",
       "        ...,\n",
       "        [ 0.0349, -0.0118, -0.0166,  ...,  0.0075, -0.0035,  0.0041],\n",
       "        [-0.0396, -0.0089, -0.0092,  ...,  0.0109,  0.0206,  0.0261],\n",
       "        [ 0.0370,  0.0347, -0.0089,  ..., -0.0034,  0.0424,  0.0187]],\n",
       "       requires_grad=True)"
      ]
     },
     "execution_count": 22,
     "metadata": {},
     "output_type": "execute_result"
    }
   ],
   "source": [
    "list(model.parameters())[-2]"
   ]
  },
  {
   "cell_type": "code",
   "execution_count": 23,
   "metadata": {},
   "outputs": [
    {
     "name": "stdout",
     "output_type": "stream",
     "text": [
      "torch.Size([20, 1, 5, 5]) False\n",
      "torch.Size([20]) False\n",
      "torch.Size([50, 20, 5, 5]) False\n",
      "torch.Size([50]) False\n",
      "torch.Size([500, 800]) False\n",
      "torch.Size([500]) False\n",
      "torch.Size([10, 500]) True\n",
      "torch.Size([10]) True\n"
     ]
    }
   ],
   "source": [
    "for p in model.parameters():\n",
    "    print(p.shape,p.requires_grad)"
   ]
  },
  {
   "cell_type": "code",
   "execution_count": 24,
   "metadata": {},
   "outputs": [],
   "source": [
    "epochs=10\n",
    "lr=0.01\n",
    "momentum=0.0\n",
    "seed=1\n",
    "log_interval=100\n",
    "optimizer = optim.SGD(model.parameters(), lr=lr, momentum=momentum)\n",
    "save=False"
   ]
  },
  {
   "cell_type": "code",
   "execution_count": 25,
   "metadata": {},
   "outputs": [
    {
     "name": "stdout",
     "output_type": "stream",
     "text": [
      "Train Epoch: 1 [0/60000 (0%)]\tLoss: 2.531272\n",
      "Train Epoch: 1 [6400/60000 (11%)]\tLoss: 1.023822\n",
      "Train Epoch: 1 [12800/60000 (21%)]\tLoss: 0.881309\n",
      "Train Epoch: 1 [19200/60000 (32%)]\tLoss: 0.645791\n",
      "Train Epoch: 1 [25600/60000 (43%)]\tLoss: 0.785615\n",
      "Train Epoch: 1 [32000/60000 (53%)]\tLoss: 0.636878\n",
      "Train Epoch: 1 [38400/60000 (64%)]\tLoss: 0.616144\n",
      "Train Epoch: 1 [44800/60000 (75%)]\tLoss: 0.460627\n",
      "Train Epoch: 1 [51200/60000 (85%)]\tLoss: 0.617484\n",
      "Train Epoch: 1 [57600/60000 (96%)]\tLoss: 0.562121\n",
      "\n",
      "Test set: Average loss: 0.9416, Accuracy: 7097/10000 (71%)\n",
      "\n",
      "Train Epoch: 2 [0/60000 (0%)]\tLoss: 0.491891\n",
      "Train Epoch: 2 [6400/60000 (11%)]\tLoss: 0.483190\n",
      "Train Epoch: 2 [12800/60000 (21%)]\tLoss: 0.462455\n",
      "Train Epoch: 2 [19200/60000 (32%)]\tLoss: 0.432000\n",
      "Train Epoch: 2 [25600/60000 (43%)]\tLoss: 0.604765\n",
      "Train Epoch: 2 [32000/60000 (53%)]\tLoss: 0.391859\n",
      "Train Epoch: 2 [38400/60000 (64%)]\tLoss: 0.617878\n",
      "Train Epoch: 2 [44800/60000 (75%)]\tLoss: 0.531499\n",
      "Train Epoch: 2 [51200/60000 (85%)]\tLoss: 0.564846\n",
      "Train Epoch: 2 [57600/60000 (96%)]\tLoss: 0.353248\n",
      "\n",
      "Test set: Average loss: 0.8263, Accuracy: 7431/10000 (74%)\n",
      "\n",
      "Train Epoch: 3 [0/60000 (0%)]\tLoss: 0.638675\n",
      "Train Epoch: 3 [6400/60000 (11%)]\tLoss: 0.526846\n",
      "Train Epoch: 3 [12800/60000 (21%)]\tLoss: 0.416314\n",
      "Train Epoch: 3 [19200/60000 (32%)]\tLoss: 0.630521\n",
      "Train Epoch: 3 [25600/60000 (43%)]\tLoss: 0.451470\n",
      "Train Epoch: 3 [32000/60000 (53%)]\tLoss: 0.385927\n",
      "Train Epoch: 3 [38400/60000 (64%)]\tLoss: 0.502237\n",
      "Train Epoch: 3 [44800/60000 (75%)]\tLoss: 0.358614\n",
      "Train Epoch: 3 [51200/60000 (85%)]\tLoss: 0.391233\n",
      "Train Epoch: 3 [57600/60000 (96%)]\tLoss: 0.291907\n",
      "\n",
      "Test set: Average loss: 0.7729, Accuracy: 7619/10000 (76%)\n",
      "\n",
      "Train Epoch: 4 [0/60000 (0%)]\tLoss: 0.454083\n",
      "Train Epoch: 4 [6400/60000 (11%)]\tLoss: 0.670398\n",
      "Train Epoch: 4 [12800/60000 (21%)]\tLoss: 0.357061\n",
      "Train Epoch: 4 [19200/60000 (32%)]\tLoss: 0.352480\n",
      "Train Epoch: 4 [25600/60000 (43%)]\tLoss: 0.300813\n",
      "Train Epoch: 4 [32000/60000 (53%)]\tLoss: 0.449416\n",
      "Train Epoch: 4 [38400/60000 (64%)]\tLoss: 0.351038\n",
      "Train Epoch: 4 [44800/60000 (75%)]\tLoss: 0.243198\n",
      "Train Epoch: 4 [51200/60000 (85%)]\tLoss: 0.283348\n",
      "Train Epoch: 4 [57600/60000 (96%)]\tLoss: 0.496274\n",
      "\n",
      "Test set: Average loss: 0.7284, Accuracy: 7786/10000 (78%)\n",
      "\n",
      "Train Epoch: 5 [0/60000 (0%)]\tLoss: 0.345824\n",
      "Train Epoch: 5 [6400/60000 (11%)]\tLoss: 0.313750\n",
      "Train Epoch: 5 [12800/60000 (21%)]\tLoss: 0.292272\n",
      "Train Epoch: 5 [19200/60000 (32%)]\tLoss: 0.322808\n",
      "Train Epoch: 5 [25600/60000 (43%)]\tLoss: 0.328616\n",
      "Train Epoch: 5 [32000/60000 (53%)]\tLoss: 0.263868\n",
      "Train Epoch: 5 [38400/60000 (64%)]\tLoss: 0.412794\n",
      "Train Epoch: 5 [44800/60000 (75%)]\tLoss: 0.384491\n",
      "Train Epoch: 5 [51200/60000 (85%)]\tLoss: 0.360302\n",
      "Train Epoch: 5 [57600/60000 (96%)]\tLoss: 0.240209\n",
      "\n",
      "Test set: Average loss: 0.6995, Accuracy: 7873/10000 (79%)\n",
      "\n",
      "Train Epoch: 6 [0/60000 (0%)]\tLoss: 0.229289\n",
      "Train Epoch: 6 [6400/60000 (11%)]\tLoss: 0.391560\n",
      "Train Epoch: 6 [12800/60000 (21%)]\tLoss: 0.401669\n",
      "Train Epoch: 6 [19200/60000 (32%)]\tLoss: 0.381301\n",
      "Train Epoch: 6 [25600/60000 (43%)]\tLoss: 0.246574\n",
      "Train Epoch: 6 [32000/60000 (53%)]\tLoss: 0.202986\n",
      "Train Epoch: 6 [38400/60000 (64%)]\tLoss: 0.187353\n",
      "Train Epoch: 6 [44800/60000 (75%)]\tLoss: 0.382507\n",
      "Train Epoch: 6 [51200/60000 (85%)]\tLoss: 0.414752\n",
      "Train Epoch: 6 [57600/60000 (96%)]\tLoss: 0.411892\n",
      "\n",
      "Test set: Average loss: 0.6749, Accuracy: 7922/10000 (79%)\n",
      "\n",
      "Train Epoch: 7 [0/60000 (0%)]\tLoss: 0.302460\n",
      "Train Epoch: 7 [6400/60000 (11%)]\tLoss: 0.227416\n",
      "Train Epoch: 7 [12800/60000 (21%)]\tLoss: 0.305934\n",
      "Train Epoch: 7 [19200/60000 (32%)]\tLoss: 0.319231\n",
      "Train Epoch: 7 [25600/60000 (43%)]\tLoss: 0.317817\n",
      "Train Epoch: 7 [32000/60000 (53%)]\tLoss: 0.195653\n",
      "Train Epoch: 7 [38400/60000 (64%)]\tLoss: 0.190134\n",
      "Train Epoch: 7 [44800/60000 (75%)]\tLoss: 0.324510\n",
      "Train Epoch: 7 [51200/60000 (85%)]\tLoss: 0.401783\n",
      "Train Epoch: 7 [57600/60000 (96%)]\tLoss: 0.204708\n",
      "\n",
      "Test set: Average loss: 0.6598, Accuracy: 7965/10000 (80%)\n",
      "\n",
      "Train Epoch: 8 [0/60000 (0%)]\tLoss: 0.404139\n",
      "Train Epoch: 8 [6400/60000 (11%)]\tLoss: 0.297160\n",
      "Train Epoch: 8 [12800/60000 (21%)]\tLoss: 0.361055\n",
      "Train Epoch: 8 [19200/60000 (32%)]\tLoss: 0.223424\n",
      "Train Epoch: 8 [25600/60000 (43%)]\tLoss: 0.337979\n",
      "Train Epoch: 8 [32000/60000 (53%)]\tLoss: 0.401212\n",
      "Train Epoch: 8 [38400/60000 (64%)]\tLoss: 0.394443\n",
      "Train Epoch: 8 [44800/60000 (75%)]\tLoss: 0.267087\n",
      "Train Epoch: 8 [51200/60000 (85%)]\tLoss: 0.131682\n",
      "Train Epoch: 8 [57600/60000 (96%)]\tLoss: 0.237336\n",
      "\n",
      "Test set: Average loss: 0.6403, Accuracy: 8038/10000 (80%)\n",
      "\n",
      "Train Epoch: 9 [0/60000 (0%)]\tLoss: 0.504458\n",
      "Train Epoch: 9 [6400/60000 (11%)]\tLoss: 0.321228\n",
      "Train Epoch: 9 [12800/60000 (21%)]\tLoss: 0.291576\n",
      "Train Epoch: 9 [19200/60000 (32%)]\tLoss: 0.195172\n",
      "Train Epoch: 9 [25600/60000 (43%)]\tLoss: 0.365040\n",
      "Train Epoch: 9 [32000/60000 (53%)]\tLoss: 0.332526\n",
      "Train Epoch: 9 [38400/60000 (64%)]\tLoss: 0.238384\n",
      "Train Epoch: 9 [44800/60000 (75%)]\tLoss: 0.378004\n",
      "Train Epoch: 9 [51200/60000 (85%)]\tLoss: 0.358925\n",
      "Train Epoch: 9 [57600/60000 (96%)]\tLoss: 0.245734\n",
      "\n",
      "Test set: Average loss: 0.6139, Accuracy: 8089/10000 (81%)\n",
      "\n",
      "Train Epoch: 10 [0/60000 (0%)]\tLoss: 0.365235\n",
      "Train Epoch: 10 [6400/60000 (11%)]\tLoss: 0.251332\n",
      "Train Epoch: 10 [12800/60000 (21%)]\tLoss: 0.315419\n",
      "Train Epoch: 10 [19200/60000 (32%)]\tLoss: 0.428192\n",
      "Train Epoch: 10 [25600/60000 (43%)]\tLoss: 0.356953\n",
      "Train Epoch: 10 [32000/60000 (53%)]\tLoss: 0.462677\n",
      "Train Epoch: 10 [38400/60000 (64%)]\tLoss: 0.147742\n",
      "Train Epoch: 10 [44800/60000 (75%)]\tLoss: 0.193331\n",
      "Train Epoch: 10 [51200/60000 (85%)]\tLoss: 0.367512\n",
      "Train Epoch: 10 [57600/60000 (96%)]\tLoss: 0.346930\n",
      "\n",
      "Test set: Average loss: 0.6171, Accuracy: 8110/10000 (81%)\n",
      "\n"
     ]
    }
   ],
   "source": [
    "for epoch in range(1, epochs + 1):\n",
    "    train(model, device, train_loader, optimizer, epoch)\n",
    "    test(model, device, test_loader)\n",
    "    \n",
    "if save:\n",
    "    torch.save(model.state_dict(),\"kmnist_trans_fc2.pt\")"
   ]
  },
  {
   "cell_type": "markdown",
   "metadata": {},
   "source": [
    "# Exercise\n",
    "\n",
    "\n",
    "\n",
    "Experiment *freely* with these topics.\n",
    "This will not be a guided exercise, maybe just some part.\n",
    "\n",
    "Experimenting with these problems is a good starting\n",
    "point to do more serious applcations later!\n",
    "\n",
    "\n",
    "- extension of random initialization to the second last hidden layer\n",
    "- monitor test and train loss and accuracy: does the model overfit?\n",
    "- change learning rate and/or momentum\n",
    "- regularize it with dropout (*)\n",
    "\n",
    "(*) You will have to redefine the Net class, adding the dropout layers after the feature extractions (after the second max pooling layer) and after fully connected fc1. Take inspiration from this architecture https://github.com/keras-team/keras/blob/master/examples/mnist_cnn.py (which is written in Keras, by the way). Then you have to re-train the model on MNIST and experiment again with transfer learning on KMNIST."
   ]
  },
  {
   "cell_type": "markdown",
   "metadata": {},
   "source": [
    "# Intrinsic dimensionality\n",
    "\n",
    "Let's see how different these two datasets are. \n",
    "\n",
    "We will look at their intrinsic dimensionality (ID) which is\n",
    "basically the number of truly independent coordinates\n",
    "that describe the data manifold with minimal information\n",
    "loss.\n",
    "\n",
    "We will estimate the intrinsic dimensionality with the algorithm in https://www.nature.com/articles/s41598-017-11873-y\n",
    "\n",
    "\n",
    "Question: are you able to make these guesses?\n",
    "\n",
    "- what is the ID of MNIST? \n",
    "- and that of KMNIST?"
   ]
  },
  {
   "cell_type": "code",
   "execution_count": 26,
   "metadata": {},
   "outputs": [],
   "source": [
    "nsamples=5000\n",
    "sampleKMNISTloader = torch.utils.data.DataLoader(\n",
    "        datasets.KMNIST('../data', train=False, transform=transforms.Compose([\n",
    "                           transforms.ToTensor(),\n",
    "                           transforms.Normalize((0.1307,), (0.3081,))\n",
    "                       ])),\n",
    "        batch_size=nsamples, shuffle=True, **kwargs)\n",
    "\n",
    "sampleMNISTloader = torch.utils.data.DataLoader(\n",
    "        datasets.MNIST('../data', train=False, transform=transforms.Compose([\n",
    "                           transforms.ToTensor(),\n",
    "                           transforms.Normalize((0.1307,), (0.3081,))\n",
    "                       ])),\n",
    "        batch_size=nsamples, shuffle=True, **kwargs)"
   ]
  },
  {
   "cell_type": "code",
   "execution_count": 27,
   "metadata": {},
   "outputs": [],
   "source": [
    "sample_kmnist,_ = next(iter(sampleKMNISTloader))\n",
    "sample_mnist,_ = next(iter(sampleMNISTloader))"
   ]
  },
  {
   "cell_type": "code",
   "execution_count": 29,
   "metadata": {},
   "outputs": [],
   "source": [
    "from intrinsic_dimension import estimate,block_analysis"
   ]
  },
  {
   "cell_type": "code",
   "execution_count": 30,
   "metadata": {},
   "outputs": [
    {
     "name": "stdout",
     "output_type": "stream",
     "text": [
      "torch.Size([5000, 1, 28, 28])\n",
      "torch.Size([5000, 1, 28, 28])\n"
     ]
    }
   ],
   "source": [
    "print(sample_kmnist.shape)\n",
    "print(sample_mnist.shape)"
   ]
  },
  {
   "cell_type": "code",
   "execution_count": 31,
   "metadata": {},
   "outputs": [],
   "source": [
    "sample_kmnist = np.reshape(np.squeeze(sample_kmnist), (nsamples, -1) )\n",
    "sample_mnist = np.reshape(np.squeeze(sample_mnist), (nsamples, -1) )"
   ]
  },
  {
   "cell_type": "code",
   "execution_count": 32,
   "metadata": {},
   "outputs": [],
   "source": [
    "from scipy.spatial.distance import pdist,squareform"
   ]
  },
  {
   "cell_type": "code",
   "execution_count": 37,
   "metadata": {},
   "outputs": [
    {
     "data": {
      "text/plain": [
       "\u001b[1;31mSignature:\u001b[0m \u001b[0mestimate\u001b[0m\u001b[1;33m(\u001b[0m\u001b[0mX\u001b[0m\u001b[1;33m,\u001b[0m \u001b[0mfraction\u001b[0m\u001b[1;33m=\u001b[0m\u001b[1;36m0.9\u001b[0m\u001b[1;33m,\u001b[0m \u001b[0mverbose\u001b[0m\u001b[1;33m=\u001b[0m\u001b[1;32mTrue\u001b[0m\u001b[1;33m)\u001b[0m\u001b[1;33m\u001b[0m\u001b[1;33m\u001b[0m\u001b[0m\n",
       "\u001b[1;31mDocstring:\u001b[0m\n",
       "Estimates the intrinsic dimension of a system of points from\n",
       "the matrix of their distances X\n",
       "\n",
       "Args:\n",
       "X : 2-D Matrix X (n,n) where n is the number of points\n",
       "fraction : fraction of the data considered for the dimensionality\n",
       "estimation (default : fraction = 0.9)\n",
       "Returns:            \n",
       "x : log(mu)    (*)\n",
       "y : -(1-F(mu)) (*)\n",
       "reg : linear regression y ~ x structure obtained with scipy.stats.linregress\n",
       "(reg.slope is the intrinsic dimension estimate)\n",
       "r : determination coefficient of y ~ x\n",
       "pval : p-value of y ~ x\n",
       "    \n",
       "(*) See cited paper for description\n",
       "\n",
       "Usage:\n",
       "    \n",
       "_,_,reg,r,pval = estimate(X,fraction=0.85)\n",
       "    \n",
       "The technique is described in : \n",
       "    \n",
       "\"Estimating the intrinsic dimension of datasets by a \n",
       "minimal neighborhood information\"       \n",
       "Authors : Elena Facco, Maria d’Errico, Alex Rodriguez & Alessandro Laio        \n",
       "Scientific Reports 7, Article number: 12140 (2017)\n",
       "doi:10.1038/s41598-017-11873-y\n",
       "\u001b[1;31mFile:\u001b[0m      c:\\users\\ansuini\\dropbox\\coursesonline\\mhpc_dl_2020\\day2\\intrinsic_dimension.py\n",
       "\u001b[1;31mType:\u001b[0m      function\n"
      ]
     },
     "metadata": {},
     "output_type": "display_data"
    }
   ],
   "source": [
    "?estimate"
   ]
  },
  {
   "cell_type": "code",
   "execution_count": 33,
   "metadata": {},
   "outputs": [
    {
     "name": "stdout",
     "output_type": "stream",
     "text": [
      "Found n. 0 elements for which r1 = 0\n",
      "[]\n",
      "Found n. 0 elements for which r1 = r2\n",
      "[]\n",
      "Fraction good points: 1.0\n",
      "Found n. 0 elements for which r1 = 0\n",
      "[]\n",
      "Found n. 0 elements for which r1 = r2\n",
      "[]\n",
      "Fraction good points: 1.0\n"
     ]
    }
   ],
   "source": [
    "kmnist_est = estimate(squareform(pdist(sample_kmnist)), verbose=True)\n",
    "mnist_est = estimate(squareform(pdist(sample_mnist)), verbose=True)"
   ]
  },
  {
   "cell_type": "code",
   "execution_count": 34,
   "metadata": {},
   "outputs": [
    {
     "name": "stdout",
     "output_type": "stream",
     "text": [
      "16.950413573166053\n"
     ]
    }
   ],
   "source": [
    "print(kmnist_est[2])"
   ]
  },
  {
   "cell_type": "code",
   "execution_count": 35,
   "metadata": {},
   "outputs": [
    {
     "name": "stdout",
     "output_type": "stream",
     "text": [
      "12.82621314219116\n"
     ]
    }
   ],
   "source": [
    "print(mnist_est[2])"
   ]
  },
  {
   "cell_type": "code",
   "execution_count": 36,
   "metadata": {},
   "outputs": [
    {
     "data": {
      "text/plain": [
       "\u001b[1;31mSignature:\u001b[0m\n",
       "\u001b[0mblock_analysis\u001b[0m\u001b[1;33m(\u001b[0m\u001b[1;33m\n",
       "\u001b[0m    \u001b[0mX\u001b[0m\u001b[1;33m,\u001b[0m\u001b[1;33m\n",
       "\u001b[0m    \u001b[0mblocks\u001b[0m\u001b[1;33m=\u001b[0m\u001b[1;33m[\u001b[0m\u001b[1;36m1\u001b[0m\u001b[1;33m,\u001b[0m \u001b[1;36m2\u001b[0m\u001b[1;33m,\u001b[0m \u001b[1;36m3\u001b[0m\u001b[1;33m,\u001b[0m \u001b[1;36m4\u001b[0m\u001b[1;33m,\u001b[0m \u001b[1;36m5\u001b[0m\u001b[1;33m,\u001b[0m \u001b[1;36m6\u001b[0m\u001b[1;33m,\u001b[0m \u001b[1;36m7\u001b[0m\u001b[1;33m,\u001b[0m \u001b[1;36m8\u001b[0m\u001b[1;33m,\u001b[0m \u001b[1;36m9\u001b[0m\u001b[1;33m,\u001b[0m \u001b[1;36m10\u001b[0m\u001b[1;33m,\u001b[0m \u001b[1;36m11\u001b[0m\u001b[1;33m,\u001b[0m \u001b[1;36m12\u001b[0m\u001b[1;33m,\u001b[0m \u001b[1;36m13\u001b[0m\u001b[1;33m,\u001b[0m \u001b[1;36m14\u001b[0m\u001b[1;33m,\u001b[0m \u001b[1;36m15\u001b[0m\u001b[1;33m,\u001b[0m \u001b[1;36m16\u001b[0m\u001b[1;33m,\u001b[0m \u001b[1;36m17\u001b[0m\u001b[1;33m,\u001b[0m \u001b[1;36m18\u001b[0m\u001b[1;33m,\u001b[0m \u001b[1;36m19\u001b[0m\u001b[1;33m,\u001b[0m \u001b[1;36m20\u001b[0m\u001b[1;33m]\u001b[0m\u001b[1;33m,\u001b[0m\u001b[1;33m\n",
       "\u001b[0m    \u001b[0mfraction\u001b[0m\u001b[1;33m=\u001b[0m\u001b[1;36m0.9\u001b[0m\u001b[1;33m,\u001b[0m\u001b[1;33m\n",
       "\u001b[0m\u001b[1;33m)\u001b[0m\u001b[1;33m\u001b[0m\u001b[1;33m\u001b[0m\u001b[0m\n",
       "\u001b[1;31mDocstring:\u001b[0m\n",
       "Perform a block-analysis of a system of points from\n",
       "the matrix of their distances X\n",
       "\n",
       "Args:\n",
       "X : 2-D Matrix X (n,n) where n is the number of points\n",
       "blocks : blocks specification, is a list of integers from\n",
       "1 to N_blocks where N_blocks is the number of blocks (default : N_blocks = 20)\n",
       "fraction : fraction of the data considered for the dimensionality\n",
       "estimation (default : fraction = 0.9)\n",
       "\u001b[1;31mFile:\u001b[0m      c:\\users\\ansuini\\dropbox\\coursesonline\\mhpc_dl_2020\\day2\\intrinsic_dimension.py\n",
       "\u001b[1;31mType:\u001b[0m      function\n"
      ]
     },
     "metadata": {},
     "output_type": "display_data"
    }
   ],
   "source": [
    "?block_analysis"
   ]
  },
  {
   "cell_type": "code",
   "execution_count": 38,
   "metadata": {},
   "outputs": [],
   "source": [
    "kmnist_ba = block_analysis(squareform(pdist(sample_kmnist)))\n",
    "mnist_ba = block_analysis(squareform(pdist(sample_mnist)))"
   ]
  },
  {
   "cell_type": "code",
   "execution_count": 39,
   "metadata": {},
   "outputs": [
    {
     "data": {
      "image/png": "[encoded data removed]",
      "text/plain": [
       "<Figure size 360x360 with 1 Axes>"
      ]
     },
     "metadata": {
      "needs_background": "light"
     },
     "output_type": "display_data"
    }
   ],
   "source": [
    "fig=plt.figure(figsize=(5,5))\n",
    "plt.errorbar(kmnist_ba[2][::-1],kmnist_ba[0],yerr=kmnist_ba[1],label='KMNIST')\n",
    "plt.errorbar(mnist_ba[2][::-1],mnist_ba[0],yerr=mnist_ba[1],label='MNIST')\n",
    "plt.xlabel('n. of samples')\n",
    "plt.ylabel('ID')\n",
    "plt.legend()\n",
    "plt.savefig('KMNIST_ID.png')\n",
    "plt.show()"
   ]
  },
  {
   "cell_type": "markdown",
   "metadata": {},
   "source": [
    "# Further Readings\n",
    "\n",
    "- https://pytorch.org/tutorials/beginner/finetuning_torchvision_models_tutorial.html\n",
    "- https://towardsdatascience.com/getting-started-with-google-colab-f2fff97f594c\n",
    "\n",
    "# Exercise (optional)\n",
    "\n",
    "This is an anticipation on what we will see with Cristiano De Nobili that\n",
    "will use colab\n",
    "\n",
    "- run the notebook on colab and play with it"
   ]
  }
 ],
 "metadata": {
  "kernelspec": {
   "display_name": "Python 3",
   "language": "python",
   "name": "python3"
  },
  "language_info": {
   "codemirror_mode": {
    "name": "ipython",
    "version": 3
   },
   "file_extension": ".py",
   "mimetype": "text/x-python",
   "name": "python",
   "nbconvert_exporter": "python",
   "pygments_lexer": "ipython3",
   "version": "3.8.2"
  }
 },
 "nbformat": 4,
 "nbformat_minor": 4
}

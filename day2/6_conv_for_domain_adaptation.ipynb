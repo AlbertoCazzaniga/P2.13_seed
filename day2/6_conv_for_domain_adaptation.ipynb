{
 "cells": [
  {
   "cell_type": "markdown",
   "metadata": {},
   "source": [
    "This notebook will train a convolutional network on MNIST\n",
    "as a starting point for our domain adaptation application.\n",
    "\n",
    "A model will be stored at the end and will be used\n",
    "in the follow-up notebook \n",
    "\n",
    "    7_domain_adaptation.ipynb\n",
    "    \n",
    "The only difference with our typical approach when\n",
    "applying convolutional nets on MNIST is the transformation\n",
    "of the grayscale images to RGB images, which is\n",
    "required for the adaptation to the new dataset,\n",
    "which is basically a MNIST with coloured and textured\n",
    "backgrounds."
   ]
  },
  {
   "cell_type": "code",
   "execution_count": 1,
   "metadata": {},
   "outputs": [],
   "source": [
    "%matplotlib inline\n",
    "%load_ext autoreload\n",
    "%autoreload 2"
   ]
  },
  {
   "cell_type": "code",
   "execution_count": 2,
   "metadata": {},
   "outputs": [],
   "source": [
    "from __future__ import print_function\n",
    "import torch\n",
    "import torch.nn as nn\n",
    "import torch.nn.functional as F\n",
    "import torch.optim as optim\n",
    "from torchvision import datasets, transforms\n",
    "from torchsummary import summary\n",
    "from PIL import Image\n",
    "import numpy as np\n",
    "from matplotlib import pyplot as plt"
   ]
  },
  {
   "cell_type": "code",
   "execution_count": 3,
   "metadata": {},
   "outputs": [],
   "source": [
    "class Net(nn.Module):\n",
    "    def __init__(self):\n",
    "        super().__init__()\n",
    "        self.feature_extractor = nn.Sequential(\n",
    "            nn.Conv2d(3, 10, kernel_size=5),\n",
    "            nn.MaxPool2d(2),\n",
    "            nn.ReLU(),\n",
    "            nn.Conv2d(10, 20, kernel_size=5),\n",
    "            nn.MaxPool2d(2),\n",
    "            nn.Dropout2d(),\n",
    "        )\n",
    "        \n",
    "        self.classifier = nn.Sequential(\n",
    "            nn.Linear(320, 50),\n",
    "            nn.ReLU(),\n",
    "            nn.Dropout(),\n",
    "            nn.Linear(50, 10),\n",
    "        )\n",
    "\n",
    "    def forward(self, x):\n",
    "        features = self.feature_extractor(x)\n",
    "        features = features.view(x.shape[0], -1)\n",
    "        logits = self.classifier(features)\n",
    "        return logits"
   ]
  },
  {
   "cell_type": "code",
   "execution_count": 4,
   "metadata": {},
   "outputs": [],
   "source": [
    "class GrayscaleToRgb:\n",
    "    \"\"\"Convert a grayscale image to rgb\"\"\"\n",
    "    def __call__(self, image):\n",
    "        image = np.array(image)\n",
    "        image = np.dstack([image, image, image])\n",
    "        return Image.fromarray(image)"
   ]
  },
  {
   "cell_type": "code",
   "execution_count": 5,
   "metadata": {},
   "outputs": [],
   "source": [
    "def train(model, device, train_loader, optimizer, epoch):\n",
    "    model.train()\n",
    "    for batch_idx, (data, target) in enumerate(train_loader):\n",
    "        data, target = data.to(device), target.to(device)\n",
    "        optimizer.zero_grad()\n",
    "        output = model(data)\n",
    "        loss = criterion(output, target)\n",
    "        loss.backward()\n",
    "        optimizer.step()\n",
    "        if batch_idx % log_interval == 0:\n",
    "            print('Train Epoch: {} [{}/{} ({:.0f}%)]\\tLoss: {:.6f}'.format(\n",
    "                epoch, batch_idx * len(data), len(train_loader.dataset),\n",
    "                100. * batch_idx / len(train_loader), loss.item()))\n",
    "\n",
    "def test(model, device, test_loader):\n",
    "    model.eval()\n",
    "    test_loss = 0\n",
    "    correct = 0\n",
    "    with torch.no_grad():\n",
    "        for data, target in test_loader:\n",
    "            data, target = data.to(device), target.to(device)\n",
    "            output = model(data)\n",
    "            test_loss += criterion(output, target).item() # sum up batch loss\n",
    "            pred = output.argmax(dim=1, keepdim=True) # get the index of the max log-probability\n",
    "            correct += pred.eq(target.view_as(pred)).sum().item()\n",
    "\n",
    "    test_loss /= len(test_loader.dataset)\n",
    "\n",
    "    print('\\nTest set: Average loss: {:.4f}, Accuracy: {}/{} ({:.0f}%)\\n'.format(\n",
    "        test_loss, correct, len(test_loader.dataset),\n",
    "        100. * correct / len(test_loader.dataset)))"
   ]
  },
  {
   "cell_type": "code",
   "execution_count": 6,
   "metadata": {},
   "outputs": [],
   "source": [
    "# Training settings\n",
    "input_size=(3,28,28,)\n",
    "batch_size=64\n",
    "test_batch_size=1000\n",
    "epochs=10\n",
    "lr=0.01\n",
    "momentum=0.0   \n",
    "seed=1\n",
    "log_interval=100"
   ]
  },
  {
   "cell_type": "code",
   "execution_count": 7,
   "metadata": {},
   "outputs": [],
   "source": [
    "use_cuda = torch.cuda.is_available()\n",
    "torch.manual_seed(seed)\n",
    "device = torch.device(\"cuda\" if use_cuda else \"cpu\")\n",
    "kwargs = {'num_workers': 1, 'pin_memory': True} if use_cuda else {}"
   ]
  },
  {
   "cell_type": "code",
   "execution_count": 8,
   "metadata": {},
   "outputs": [
    {
     "name": "stdout",
     "output_type": "stream",
     "text": [
      "Downloading http://yann.lecun.com/exdb/mnist/train-images-idx3-ubyte.gz to ../data\\MNIST\\raw\\train-images-idx3-ubyte.gz\n"
     ]
    },
    {
     "data": {
      "application/vnd.jupyter.widget-view+json": {
       "model_id": "e3ae2d3ce6f24cd9a17088a1d80bd15d",
       "version_major": 2,
       "version_minor": 0
      },
      "text/plain": [
       "HBox(children=(FloatProgress(value=1.0, bar_style='info', max=1.0), HTML(value='')))"
      ]
     },
     "metadata": {},
     "output_type": "display_data"
    },
    {
     "name": "stdout",
     "output_type": "stream",
     "text": [
      "Extracting ../data\\MNIST\\raw\\train-images-idx3-ubyte.gz to ../data\\MNIST\\raw\n",
      "Downloading http://yann.lecun.com/exdb/mnist/train-labels-idx1-ubyte.gz to ../data\\MNIST\\raw\\train-labels-idx1-ubyte.gz\n"
     ]
    },
    {
     "data": {
      "application/vnd.jupyter.widget-view+json": {
       "model_id": "c59f968cb1c54251b1cd787738d1a71a",
       "version_major": 2,
       "version_minor": 0
      },
      "text/plain": [
       "HBox(children=(FloatProgress(value=1.0, bar_style='info', max=1.0), HTML(value='')))"
      ]
     },
     "metadata": {},
     "output_type": "display_data"
    },
    {
     "name": "stdout",
     "output_type": "stream",
     "text": [
      "Extracting ../data\\MNIST\\raw\\train-labels-idx1-ubyte.gz to ../data\\MNIST\\raw\n",
      "Downloading http://yann.lecun.com/exdb/mnist/t10k-images-idx3-ubyte.gz to ../data\\MNIST\\raw\\t10k-images-idx3-ubyte.gz\n"
     ]
    },
    {
     "data": {
      "application/vnd.jupyter.widget-view+json": {
       "model_id": "d73df71a040b4ed1ac1bd80e04edebda",
       "version_major": 2,
       "version_minor": 0
      },
      "text/plain": [
       "HBox(children=(FloatProgress(value=1.0, bar_style='info', max=1.0), HTML(value='')))"
      ]
     },
     "metadata": {},
     "output_type": "display_data"
    },
    {
     "name": "stdout",
     "output_type": "stream",
     "text": [
      "Extracting ../data\\MNIST\\raw\\t10k-images-idx3-ubyte.gz to ../data\\MNIST\\raw\n",
      "Downloading http://yann.lecun.com/exdb/mnist/t10k-labels-idx1-ubyte.gz to ../data\\MNIST\\raw\\t10k-labels-idx1-ubyte.gz\n"
     ]
    },
    {
     "data": {
      "application/vnd.jupyter.widget-view+json": {
       "model_id": "6b467ac847114dc08a624a269734bc25",
       "version_major": 2,
       "version_minor": 0
      },
      "text/plain": [
       "HBox(children=(FloatProgress(value=1.0, bar_style='info', max=1.0), HTML(value='')))"
      ]
     },
     "metadata": {},
     "output_type": "display_data"
    },
    {
     "name": "stdout",
     "output_type": "stream",
     "text": [
      "Extracting ../data\\MNIST\\raw\\t10k-labels-idx1-ubyte.gz to ../data\\MNIST\\raw\n",
      "Processing...\n",
      "Done!\n"
     ]
    },
    {
     "name": "stderr",
     "output_type": "stream",
     "text": [
      "..\\torch\\csrc\\utils\\tensor_numpy.cpp:141: UserWarning: The given NumPy array is not writeable, and PyTorch does not support non-writeable tensors. This means you can write to the underlying (supposedly non-writeable) NumPy array using the tensor. You may want to copy the array to protect its data or make it writeable before converting it to a tensor. This type of warning will be suppressed for the rest of this program.\n"
     ]
    }
   ],
   "source": [
    "train_loader = torch.utils.data.DataLoader(\n",
    "        datasets.MNIST('../data', train=True, download=True,\n",
    "                       transform=transforms.Compose([\n",
    "                           GrayscaleToRgb(),\n",
    "                           transforms.ToTensor() \n",
    "                       ])),\n",
    "        batch_size=batch_size, shuffle=True, **kwargs)\n",
    "\n",
    "test_loader = torch.utils.data.DataLoader(\n",
    "        datasets.MNIST('../data', train=False, transform=transforms.Compose([\n",
    "                           GrayscaleToRgb(),\n",
    "                           transforms.ToTensor()                          \n",
    "                       ])),\n",
    "        batch_size=test_batch_size, shuffle=True, **kwargs)"
   ]
  },
  {
   "cell_type": "code",
   "execution_count": 9,
   "metadata": {},
   "outputs": [
    {
     "name": "stdout",
     "output_type": "stream",
     "text": [
      "\n",
      "\n",
      "torch.Size([64, 3, 28, 28])\n"
     ]
    }
   ],
   "source": [
    "imgs,labels = next(iter(train_loader))\n",
    "print(imgs.shape)"
   ]
  },
  {
   "cell_type": "code",
   "execution_count": 10,
   "metadata": {},
   "outputs": [
    {
     "data": {
      "text/plain": [
       "tensor([9, 3, 0, 1, 2, 4, 6, 8, 1, 1, 2, 3, 0, 7, 0, 0, 1, 3, 9, 4, 1, 1, 2, 9,\n",
       "        0, 0, 1, 4, 6, 2, 1, 3, 0, 8, 8, 1, 9, 5, 9, 0, 2, 8, 7, 2, 9, 5, 7, 1,\n",
       "        4, 1, 8, 6, 1, 8, 7, 0, 1, 3, 4, 3, 2, 7, 7, 7])"
      ]
     },
     "execution_count": 10,
     "metadata": {},
     "output_type": "execute_result"
    }
   ],
   "source": [
    "labels"
   ]
  },
  {
   "cell_type": "code",
   "execution_count": 11,
   "metadata": {},
   "outputs": [
    {
     "data": {
      "text/plain": [
       "<matplotlib.image.AxesImage at 0x1bf233c4a30>"
      ]
     },
     "execution_count": 11,
     "metadata": {},
     "output_type": "execute_result"
    },
    {
     "data": {
      "image/png": "[encoded data removed]",
      "text/plain": [
       "<Figure size 432x288 with 1 Axes>"
      ]
     },
     "metadata": {
      "needs_background": "light"
     },
     "output_type": "display_data"
    },
    {
     "name": "stdout",
     "output_type": "stream",
     "text": [
      "\n",
      "\n"
     ]
    }
   ],
   "source": [
    "plt.imshow(np.transpose(imgs[2], (1,2,0) ) )"
   ]
  },
  {
   "cell_type": "code",
   "execution_count": 12,
   "metadata": {},
   "outputs": [],
   "source": [
    "model = Net().to(device)\n",
    "optimizer = optim.SGD(model.parameters(), lr=lr, momentum=momentum)\n",
    "criterion = torch.nn.CrossEntropyLoss()"
   ]
  },
  {
   "cell_type": "code",
   "execution_count": 13,
   "metadata": {},
   "outputs": [
    {
     "name": "stdout",
     "output_type": "stream",
     "text": [
      "----------------------------------------------------------------\n",
      "        Layer (type)               Output Shape         Param #\n",
      "================================================================\n",
      "            Conv2d-1           [-1, 10, 24, 24]             760\n",
      "         MaxPool2d-2           [-1, 10, 12, 12]               0\n",
      "              ReLU-3           [-1, 10, 12, 12]               0\n",
      "            Conv2d-4             [-1, 20, 8, 8]           5,020\n",
      "         MaxPool2d-5             [-1, 20, 4, 4]               0\n",
      "         Dropout2d-6             [-1, 20, 4, 4]               0\n",
      "            Linear-7                   [-1, 50]          16,050\n",
      "              ReLU-8                   [-1, 50]               0\n",
      "           Dropout-9                   [-1, 50]               0\n",
      "           Linear-10                   [-1, 10]             510\n",
      "================================================================\n",
      "Total params: 22,340\n",
      "Trainable params: 22,340\n",
      "Non-trainable params: 0\n",
      "----------------------------------------------------------------\n",
      "Input size (MB): 0.01\n",
      "Forward/backward pass size (MB): 0.08\n",
      "Params size (MB): 0.09\n",
      "Estimated Total Size (MB): 0.18\n",
      "----------------------------------------------------------------\n"
     ]
    }
   ],
   "source": [
    "summary(model,input_size)"
   ]
  },
  {
   "cell_type": "code",
   "execution_count": 14,
   "metadata": {},
   "outputs": [
    {
     "name": "stdout",
     "output_type": "stream",
     "text": [
      "Train Epoch: 1 [0/60000 (0%)]\tLoss: 2.324133\n",
      "Train Epoch: 1 [6400/60000 (11%)]\tLoss: 2.299729\n",
      "Train Epoch: 1 [12800/60000 (21%)]\tLoss: 2.260267\n",
      "Train Epoch: 1 [19200/60000 (32%)]\tLoss: 2.144550\n",
      "Train Epoch: 1 [25600/60000 (43%)]\tLoss: 1.698136\n",
      "Train Epoch: 1 [32000/60000 (53%)]\tLoss: 1.287620\n",
      "Train Epoch: 1 [38400/60000 (64%)]\tLoss: 0.995291\n",
      "Train Epoch: 1 [44800/60000 (75%)]\tLoss: 1.193858\n",
      "Train Epoch: 1 [51200/60000 (85%)]\tLoss: 0.994035\n",
      "Train Epoch: 1 [57600/60000 (96%)]\tLoss: 0.911277\n",
      "\n",
      "Test set: Average loss: 0.0004, Accuracy: 8845/10000 (88%)\n",
      "\n",
      "Train Epoch: 2 [0/60000 (0%)]\tLoss: 0.580243\n",
      "Train Epoch: 2 [6400/60000 (11%)]\tLoss: 0.676999\n",
      "Train Epoch: 2 [12800/60000 (21%)]\tLoss: 0.456933\n",
      "Train Epoch: 2 [19200/60000 (32%)]\tLoss: 0.567806\n",
      "Train Epoch: 2 [25600/60000 (43%)]\tLoss: 0.654306\n",
      "Train Epoch: 2 [32000/60000 (53%)]\tLoss: 0.443857\n",
      "Train Epoch: 2 [38400/60000 (64%)]\tLoss: 0.930586\n",
      "Train Epoch: 2 [44800/60000 (75%)]\tLoss: 0.546676\n",
      "Train Epoch: 2 [51200/60000 (85%)]\tLoss: 0.559433\n",
      "Train Epoch: 2 [57600/60000 (96%)]\tLoss: 0.686298\n",
      "\n",
      "Test set: Average loss: 0.0002, Accuracy: 9274/10000 (93%)\n",
      "\n",
      "Train Epoch: 3 [0/60000 (0%)]\tLoss: 0.519480\n",
      "Train Epoch: 3 [6400/60000 (11%)]\tLoss: 0.540441\n",
      "Train Epoch: 3 [12800/60000 (21%)]\tLoss: 0.338880\n",
      "Train Epoch: 3 [19200/60000 (32%)]\tLoss: 0.648884\n",
      "Train Epoch: 3 [25600/60000 (43%)]\tLoss: 0.355558\n",
      "Train Epoch: 3 [32000/60000 (53%)]\tLoss: 0.239286\n",
      "Train Epoch: 3 [38400/60000 (64%)]\tLoss: 0.403845\n",
      "Train Epoch: 3 [44800/60000 (75%)]\tLoss: 0.534644\n",
      "Train Epoch: 3 [51200/60000 (85%)]\tLoss: 0.395714\n",
      "Train Epoch: 3 [57600/60000 (96%)]\tLoss: 0.460146\n",
      "\n",
      "Test set: Average loss: 0.0002, Accuracy: 9441/10000 (94%)\n",
      "\n",
      "Train Epoch: 4 [0/60000 (0%)]\tLoss: 0.336785\n",
      "Train Epoch: 4 [6400/60000 (11%)]\tLoss: 0.462196\n",
      "Train Epoch: 4 [12800/60000 (21%)]\tLoss: 0.428376\n",
      "Train Epoch: 4 [19200/60000 (32%)]\tLoss: 0.281290\n",
      "Train Epoch: 4 [25600/60000 (43%)]\tLoss: 0.278600\n",
      "Train Epoch: 4 [32000/60000 (53%)]\tLoss: 0.391603\n",
      "Train Epoch: 4 [38400/60000 (64%)]\tLoss: 0.581019\n",
      "Train Epoch: 4 [44800/60000 (75%)]\tLoss: 0.333221\n",
      "Train Epoch: 4 [51200/60000 (85%)]\tLoss: 0.449771\n",
      "Train Epoch: 4 [57600/60000 (96%)]\tLoss: 0.478558\n",
      "\n",
      "Test set: Average loss: 0.0002, Accuracy: 9526/10000 (95%)\n",
      "\n",
      "Train Epoch: 5 [0/60000 (0%)]\tLoss: 0.550307\n",
      "Train Epoch: 5 [6400/60000 (11%)]\tLoss: 0.307240\n",
      "Train Epoch: 5 [12800/60000 (21%)]\tLoss: 0.211682\n",
      "Train Epoch: 5 [19200/60000 (32%)]\tLoss: 0.559421\n",
      "Train Epoch: 5 [25600/60000 (43%)]\tLoss: 0.367849\n",
      "Train Epoch: 5 [32000/60000 (53%)]\tLoss: 0.370202\n",
      "Train Epoch: 5 [38400/60000 (64%)]\tLoss: 0.164722\n",
      "Train Epoch: 5 [44800/60000 (75%)]\tLoss: 0.426752\n",
      "Train Epoch: 5 [51200/60000 (85%)]\tLoss: 0.272777\n",
      "Train Epoch: 5 [57600/60000 (96%)]\tLoss: 0.358167\n",
      "\n",
      "Test set: Average loss: 0.0001, Accuracy: 9567/10000 (96%)\n",
      "\n",
      "Train Epoch: 6 [0/60000 (0%)]\tLoss: 0.247221\n",
      "Train Epoch: 6 [6400/60000 (11%)]\tLoss: 0.230541\n",
      "Train Epoch: 6 [12800/60000 (21%)]\tLoss: 0.361719\n",
      "Train Epoch: 6 [19200/60000 (32%)]\tLoss: 0.242000\n",
      "Train Epoch: 6 [25600/60000 (43%)]\tLoss: 0.274034\n",
      "Train Epoch: 6 [32000/60000 (53%)]\tLoss: 0.359074\n",
      "Train Epoch: 6 [38400/60000 (64%)]\tLoss: 0.306851\n",
      "Train Epoch: 6 [44800/60000 (75%)]\tLoss: 0.320668\n",
      "Train Epoch: 6 [51200/60000 (85%)]\tLoss: 0.398005\n",
      "Train Epoch: 6 [57600/60000 (96%)]\tLoss: 0.265698\n",
      "\n",
      "Test set: Average loss: 0.0001, Accuracy: 9605/10000 (96%)\n",
      "\n",
      "Train Epoch: 7 [0/60000 (0%)]\tLoss: 0.289436\n",
      "Train Epoch: 7 [6400/60000 (11%)]\tLoss: 0.418509\n",
      "Train Epoch: 7 [12800/60000 (21%)]\tLoss: 0.310262\n",
      "Train Epoch: 7 [19200/60000 (32%)]\tLoss: 0.191592\n",
      "Train Epoch: 7 [25600/60000 (43%)]\tLoss: 0.148808\n",
      "Train Epoch: 7 [32000/60000 (53%)]\tLoss: 0.305520\n",
      "Train Epoch: 7 [38400/60000 (64%)]\tLoss: 0.158151\n",
      "Train Epoch: 7 [44800/60000 (75%)]\tLoss: 0.095330\n",
      "Train Epoch: 7 [51200/60000 (85%)]\tLoss: 0.379264\n",
      "Train Epoch: 7 [57600/60000 (96%)]\tLoss: 0.271814\n",
      "\n",
      "Test set: Average loss: 0.0001, Accuracy: 9655/10000 (97%)\n",
      "\n",
      "Train Epoch: 8 [0/60000 (0%)]\tLoss: 0.128491\n",
      "Train Epoch: 8 [6400/60000 (11%)]\tLoss: 0.256035\n",
      "Train Epoch: 8 [12800/60000 (21%)]\tLoss: 0.212642\n",
      "Train Epoch: 8 [19200/60000 (32%)]\tLoss: 0.223501\n",
      "Train Epoch: 8 [25600/60000 (43%)]\tLoss: 0.287051\n",
      "Train Epoch: 8 [32000/60000 (53%)]\tLoss: 0.197865\n",
      "Train Epoch: 8 [38400/60000 (64%)]\tLoss: 0.198516\n",
      "Train Epoch: 8 [44800/60000 (75%)]\tLoss: 0.218197\n",
      "Train Epoch: 8 [51200/60000 (85%)]\tLoss: 0.265492\n",
      "Train Epoch: 8 [57600/60000 (96%)]\tLoss: 0.259361\n",
      "\n",
      "Test set: Average loss: 0.0001, Accuracy: 9687/10000 (97%)\n",
      "\n",
      "Train Epoch: 9 [0/60000 (0%)]\tLoss: 0.232737\n",
      "Train Epoch: 9 [6400/60000 (11%)]\tLoss: 0.512886\n",
      "Train Epoch: 9 [12800/60000 (21%)]\tLoss: 0.206755\n",
      "Train Epoch: 9 [19200/60000 (32%)]\tLoss: 0.113950\n",
      "Train Epoch: 9 [25600/60000 (43%)]\tLoss: 0.163357\n",
      "Train Epoch: 9 [32000/60000 (53%)]\tLoss: 0.223808\n",
      "Train Epoch: 9 [38400/60000 (64%)]\tLoss: 0.252130\n",
      "Train Epoch: 9 [44800/60000 (75%)]\tLoss: 0.354156\n",
      "Train Epoch: 9 [51200/60000 (85%)]\tLoss: 0.386758\n",
      "Train Epoch: 9 [57600/60000 (96%)]\tLoss: 0.422313\n",
      "\n",
      "Test set: Average loss: 0.0001, Accuracy: 9690/10000 (97%)\n",
      "\n",
      "Train Epoch: 10 [0/60000 (0%)]\tLoss: 0.364325\n",
      "Train Epoch: 10 [6400/60000 (11%)]\tLoss: 0.243178\n",
      "Train Epoch: 10 [12800/60000 (21%)]\tLoss: 0.189060\n",
      "Train Epoch: 10 [19200/60000 (32%)]\tLoss: 0.160407\n",
      "Train Epoch: 10 [25600/60000 (43%)]\tLoss: 0.177516\n",
      "Train Epoch: 10 [32000/60000 (53%)]\tLoss: 0.288393\n",
      "Train Epoch: 10 [38400/60000 (64%)]\tLoss: 0.177504\n",
      "Train Epoch: 10 [44800/60000 (75%)]\tLoss: 0.155251\n",
      "Train Epoch: 10 [51200/60000 (85%)]\tLoss: 0.254970\n",
      "Train Epoch: 10 [57600/60000 (96%)]\tLoss: 0.238692\n",
      "\n",
      "Test set: Average loss: 0.0001, Accuracy: 9725/10000 (97%)\n",
      "\n"
     ]
    }
   ],
   "source": [
    "for epoch in range(1, epochs + 1):\n",
    "    train(model, device, train_loader, optimizer, epoch)\n",
    "    test(model, device, test_loader)"
   ]
  },
  {
   "cell_type": "code",
   "execution_count": 15,
   "metadata": {},
   "outputs": [],
   "source": [
    "torch.save(model.state_dict(),\"conv_for_domain_adaptation.pt\")"
   ]
  }
 ],
 "metadata": {
  "kernelspec": {
   "display_name": "Python 3",
   "language": "python",
   "name": "python3"
  },
  "language_info": {
   "codemirror_mode": {
    "name": "ipython",
    "version": 3
   },
   "file_extension": ".py",
   "mimetype": "text/x-python",
   "name": "python",
   "nbconvert_exporter": "python",
   "pygments_lexer": "ipython3",
   "version": "3.8.2"
  }
 },
 "nbformat": 4,
 "nbformat_minor": 4
}
